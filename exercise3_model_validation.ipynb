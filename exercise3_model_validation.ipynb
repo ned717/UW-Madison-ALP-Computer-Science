{
  "metadata": {
    "kernelspec": {
      "display_name": "Python 3",
      "language": "python",
      "name": "python3"
    },
    "language_info": {
      "codemirror_mode": {
        "name": "ipython",
        "version": 3
      },
      "file_extension": ".py",
      "mimetype": "text/x-python",
      "name": "python",
      "nbconvert_exporter": "python",
      "pygments_lexer": "ipython3",
      "version": "3.6.5"
    },
    "kaggle": {
      "accelerator": "none",
      "dataSources": [
        {
          "sourceId": 10211,
          "databundleVersionId": 111096,
          "sourceType": "competition"
        },
        {
          "sourceId": 15520,
          "sourceType": "datasetVersion",
          "datasetId": 11167
        },
        {
          "sourceId": 38454,
          "sourceType": "datasetVersion",
          "datasetId": 2709
        }
      ],
      "isInternetEnabled": false,
      "language": "python",
      "sourceType": "notebook",
      "isGpuEnabled": false
    },
    "colab": {
      "provenance": [],
      "include_colab_link": true
    }
  },
  "nbformat_minor": 0,
  "nbformat": 4,
  "cells": [
    {
      "cell_type": "markdown",
      "metadata": {
        "id": "view-in-github",
        "colab_type": "text"
      },
      "source": [
        "<a href=\"https://colab.research.google.com/github/ned717/UW-Madison-ALP-Computer-Science/blob/main/exercise3_model_validation.ipynb\" target=\"_parent\"><img src=\"https://colab.research.google.com/assets/colab-badge.svg\" alt=\"Open In Colab\"/></a>"
      ]
    },
    {
      "cell_type": "markdown",
      "source": [],
      "metadata": {
        "id": "NOJTGpHy9e9M"
      }
    },
    {
      "cell_type": "markdown",
      "source": [
        "## Recap\n",
        "You've built a model. In this exercise you will test how good your model is.\n",
        "\n",
        "Run the cell below to set up your coding environment where the previous exercise left off."
      ],
      "metadata": {
        "id": "JXrveUA69e9R"
      }
    },
    {
      "cell_type": "code",
      "source": [
        "# Code you have previously used to load data\n",
        "import pandas as pd\n",
        "from sklearn.tree import DecisionTreeRegressor\n",
        "\n",
        "# Path of the file to read\n",
        "iowa_file_path = 'train.csv'\n",
        "\n",
        "home_data = pd.read_csv(iowa_file_path)\n",
        "\n",
        "y = home_data.SalePrice\n",
        "feature_columns = ['LotArea', 'YearBuilt', '1stFlrSF', '2ndFlrSF', 'FullBath', 'BedroomAbvGr', 'TotRmsAbvGrd']\n",
        "x = home_data[feature_columns]\n",
        "\n",
        "# Specify Model\n",
        "iowa_model = DecisionTreeRegressor()\n",
        "# Fit Model\n",
        "iowa_model.fit(x, y)\n",
        "\n",
        "print(\"First in-sample predictions:\", iowa_model.predict(X.head()))\n",
        "print(\"Actual target values for those homes:\", y.head().tolist())"
      ],
      "metadata": {
        "id": "Y1TNcJeH9e9S",
        "colab": {
          "base_uri": "https://localhost:8080/"
        },
        "outputId": "3b564858-1878-4302-b13e-7d3d9f098bcf"
      },
      "execution_count": 11,
      "outputs": [
        {
          "output_type": "stream",
          "name": "stdout",
          "text": [
            "First in-sample predictions: [208500. 181500. 223500. 140000. 250000.]\n",
            "Actual target values for those homes: [208500, 181500, 223500, 140000, 250000]\n"
          ]
        }
      ]
    },
    {
      "cell_type": "markdown",
      "source": [
        "# Exercises\n",
        "\n",
        "## Step 1: Split Your Data\n",
        "Use the `train_test_split` function to split up your data.\n",
        "\n",
        "Give it the argument `random_state=1` so the `check` functions know what to expect when verifying your code.\n",
        "\n",
        "Recall, your features are loaded in the DataFrame **X** and your target is loaded in **y**.\n"
      ],
      "metadata": {
        "id": "cdO505-a9e9U"
      }
    },
    {
      "cell_type": "code",
      "source": [
        "# Import the train_test_split function and uncomment\n",
        "# from _ import _\n",
        "from sklearn.model_selection import train_test_split\n",
        "# fill in and uncomment\n",
        "# train_X, val_X, train_y, val_y = ____\n",
        "train_x, val_x, train_y, val_y = train_test_split (x,y, random_state=0)\n"
      ],
      "metadata": {
        "id": "VTbFecYv9e9U"
      },
      "execution_count": 15,
      "outputs": []
    },
    {
      "cell_type": "markdown",
      "source": [
        "## Step 2: Specify and Fit the Model\n",
        "\n",
        "Create a `DecisionTreeRegressor` model and fit it to the relevant data.\n",
        "Set `random_state` to 1 again when creating the model."
      ],
      "metadata": {
        "id": "ncPkzf5t9e9V"
      }
    },
    {
      "cell_type": "code",
      "source": [
        "# You imported DecisionTreeRegressor in your last exercise\n",
        "# and that code has been copied to the setup code above. So, no need to\n",
        "# import it again\n",
        "\n",
        "# Specify the model\n",
        "iowa_model = DecisionTreeRegressor(random_state=0)\n",
        "# Fit iowa_model with the training data.\n",
        "iowa_model.fit(x,y)\n",
        "\n"
      ],
      "metadata": {
        "id": "KyNAFzbj9e9W",
        "colab": {
          "base_uri": "https://localhost:8080/",
          "height": 74
        },
        "outputId": "84ec1dbf-4658-46a2-e667-217c8a3d1c28"
      },
      "execution_count": 16,
      "outputs": [
        {
          "output_type": "execute_result",
          "data": {
            "text/plain": [
              "DecisionTreeRegressor(random_state=0)"
            ],
            "text/html": [
              "<style>#sk-container-id-1 {color: black;background-color: white;}#sk-container-id-1 pre{padding: 0;}#sk-container-id-1 div.sk-toggleable {background-color: white;}#sk-container-id-1 label.sk-toggleable__label {cursor: pointer;display: block;width: 100%;margin-bottom: 0;padding: 0.3em;box-sizing: border-box;text-align: center;}#sk-container-id-1 label.sk-toggleable__label-arrow:before {content: \"▸\";float: left;margin-right: 0.25em;color: #696969;}#sk-container-id-1 label.sk-toggleable__label-arrow:hover:before {color: black;}#sk-container-id-1 div.sk-estimator:hover label.sk-toggleable__label-arrow:before {color: black;}#sk-container-id-1 div.sk-toggleable__content {max-height: 0;max-width: 0;overflow: hidden;text-align: left;background-color: #f0f8ff;}#sk-container-id-1 div.sk-toggleable__content pre {margin: 0.2em;color: black;border-radius: 0.25em;background-color: #f0f8ff;}#sk-container-id-1 input.sk-toggleable__control:checked~div.sk-toggleable__content {max-height: 200px;max-width: 100%;overflow: auto;}#sk-container-id-1 input.sk-toggleable__control:checked~label.sk-toggleable__label-arrow:before {content: \"▾\";}#sk-container-id-1 div.sk-estimator input.sk-toggleable__control:checked~label.sk-toggleable__label {background-color: #d4ebff;}#sk-container-id-1 div.sk-label input.sk-toggleable__control:checked~label.sk-toggleable__label {background-color: #d4ebff;}#sk-container-id-1 input.sk-hidden--visually {border: 0;clip: rect(1px 1px 1px 1px);clip: rect(1px, 1px, 1px, 1px);height: 1px;margin: -1px;overflow: hidden;padding: 0;position: absolute;width: 1px;}#sk-container-id-1 div.sk-estimator {font-family: monospace;background-color: #f0f8ff;border: 1px dotted black;border-radius: 0.25em;box-sizing: border-box;margin-bottom: 0.5em;}#sk-container-id-1 div.sk-estimator:hover {background-color: #d4ebff;}#sk-container-id-1 div.sk-parallel-item::after {content: \"\";width: 100%;border-bottom: 1px solid gray;flex-grow: 1;}#sk-container-id-1 div.sk-label:hover label.sk-toggleable__label {background-color: #d4ebff;}#sk-container-id-1 div.sk-serial::before {content: \"\";position: absolute;border-left: 1px solid gray;box-sizing: border-box;top: 0;bottom: 0;left: 50%;z-index: 0;}#sk-container-id-1 div.sk-serial {display: flex;flex-direction: column;align-items: center;background-color: white;padding-right: 0.2em;padding-left: 0.2em;position: relative;}#sk-container-id-1 div.sk-item {position: relative;z-index: 1;}#sk-container-id-1 div.sk-parallel {display: flex;align-items: stretch;justify-content: center;background-color: white;position: relative;}#sk-container-id-1 div.sk-item::before, #sk-container-id-1 div.sk-parallel-item::before {content: \"\";position: absolute;border-left: 1px solid gray;box-sizing: border-box;top: 0;bottom: 0;left: 50%;z-index: -1;}#sk-container-id-1 div.sk-parallel-item {display: flex;flex-direction: column;z-index: 1;position: relative;background-color: white;}#sk-container-id-1 div.sk-parallel-item:first-child::after {align-self: flex-end;width: 50%;}#sk-container-id-1 div.sk-parallel-item:last-child::after {align-self: flex-start;width: 50%;}#sk-container-id-1 div.sk-parallel-item:only-child::after {width: 0;}#sk-container-id-1 div.sk-dashed-wrapped {border: 1px dashed gray;margin: 0 0.4em 0.5em 0.4em;box-sizing: border-box;padding-bottom: 0.4em;background-color: white;}#sk-container-id-1 div.sk-label label {font-family: monospace;font-weight: bold;display: inline-block;line-height: 1.2em;}#sk-container-id-1 div.sk-label-container {text-align: center;}#sk-container-id-1 div.sk-container {/* jupyter's `normalize.less` sets `[hidden] { display: none; }` but bootstrap.min.css set `[hidden] { display: none !important; }` so we also need the `!important` here to be able to override the default hidden behavior on the sphinx rendered scikit-learn.org. See: https://github.com/scikit-learn/scikit-learn/issues/21755 */display: inline-block !important;position: relative;}#sk-container-id-1 div.sk-text-repr-fallback {display: none;}</style><div id=\"sk-container-id-1\" class=\"sk-top-container\"><div class=\"sk-text-repr-fallback\"><pre>DecisionTreeRegressor(random_state=0)</pre><b>In a Jupyter environment, please rerun this cell to show the HTML representation or trust the notebook. <br />On GitHub, the HTML representation is unable to render, please try loading this page with nbviewer.org.</b></div><div class=\"sk-container\" hidden><div class=\"sk-item\"><div class=\"sk-estimator sk-toggleable\"><input class=\"sk-toggleable__control sk-hidden--visually\" id=\"sk-estimator-id-1\" type=\"checkbox\" checked><label for=\"sk-estimator-id-1\" class=\"sk-toggleable__label sk-toggleable__label-arrow\">DecisionTreeRegressor</label><div class=\"sk-toggleable__content\"><pre>DecisionTreeRegressor(random_state=0)</pre></div></div></div></div></div>"
            ]
          },
          "metadata": {},
          "execution_count": 16
        }
      ]
    },
    {
      "cell_type": "code",
      "source": [],
      "metadata": {
        "id": "LYZCK35c9e9W"
      },
      "execution_count": null,
      "outputs": []
    },
    {
      "cell_type": "markdown",
      "source": [
        "## Step 3: Make Predictions with Validation data\n"
      ],
      "metadata": {
        "id": "thWpehpF9e9X"
      }
    },
    {
      "cell_type": "code",
      "source": [
        "# Predict with all validation observations\n",
        "val_predictions = iowa_model.predict(val_x)"
      ],
      "metadata": {
        "id": "DN07iSeJ9e9X"
      },
      "execution_count": 36,
      "outputs": []
    },
    {
      "cell_type": "code",
      "source": [],
      "metadata": {
        "id": "Gt86_DZA9e9X"
      },
      "execution_count": null,
      "outputs": []
    },
    {
      "cell_type": "markdown",
      "source": [
        "Inspect your predictions and actual values from validation data."
      ],
      "metadata": {
        "id": "ou8DFXbX9e9Y"
      }
    },
    {
      "cell_type": "code",
      "source": [
        "# print the top few validation predictions\n",
        "print(val_predictions)\n",
        "# print the top few actual prices from validation data\n",
        "print(val_y)"
      ],
      "metadata": {
        "id": "PAxCn8rt9e9Y",
        "colab": {
          "base_uri": "https://localhost:8080/"
        },
        "outputId": "b37ee875-a521-43d1-caf0-06322deef890"
      },
      "execution_count": 38,
      "outputs": [
        {
          "output_type": "stream",
          "name": "stdout",
          "text": [
            "[200624.         133000.         110000.         192000.\n",
            "  88000.          85000.         282922.         141000.\n",
            " 745000.         148800.         208900.         136905.\n",
            " 225000.         123000.         119200.         145000.\n",
            " 190000.         123600.         149350.         155000.\n",
            " 166000.         144500.         110000.         174000.\n",
            " 185000.         168000.         177500.          84500.\n",
            " 320000.         118500.         110000.         213000.\n",
            " 156000.         250000.         372500.         175000.\n",
            " 277500.         112500.         263000.         325000.\n",
            " 243000.         130000.         164990.         280000.\n",
            " 403000.         119000.         125000.         128200.\n",
            " 172500.          84900.         412500.         156000.\n",
            " 167900.         100000.         275000.         123000.\n",
            " 132000.         239900.         139000.         115000.\n",
            " 137500.         135000.         134450.         180500.\n",
            " 193500.         156500.         132000.         224500.\n",
            " 139000.         225000.         188500.         118000.\n",
            "  82000.         392000.         112000.         248900.\n",
            " 134500.          79500.         320000.         158000.\n",
            " 140000.         136500.         107500.         145000.\n",
            " 200500.         185000.         105000.         202665.\n",
            " 186000.         136000.         200500.         190000.\n",
            " 187500.         200000.         172500.         157000.\n",
            " 213000.         185000.         124500.         162900.\n",
            " 260000.         198500.         120000.         159500.\n",
            " 105900.         260000.         143000.         106500.\n",
            " 178900.         127000.          90350.         118500.\n",
            " 190000.         119900.         183900.         155000.\n",
            " 386250.         133000.         193500.         270000.\n",
            " 141000.         146000.         128500.         176000.\n",
            " 214000.         222000.         415298.         187750.\n",
            " 199900.         180000.         206300.         194000.\n",
            " 142953.         182900.         116050.         213250.\n",
            " 139500.         179000.         107900.         175900.\n",
            " 158500.         146500.         217000.         150500.\n",
            " 108959.         165600.         201000.         145500.\n",
            " 319900.         215000.         180500.         367294.\n",
            " 239000.         145900.         161000.         250000.\n",
            "  89471.         230000.         147000.         163900.\n",
            "  97000.         142000.         197000.         129000.\n",
            " 232000.         115000.         175000.         265000.\n",
            " 207000.         181000.         176000.         171000.\n",
            " 196000.         176000.         113000.         139000.\n",
            " 135000.         240000.         112000.         134000.\n",
            " 316600.         170000.         116000.         306000.\n",
            "  82500.         175000.         106000.         194000.\n",
            " 194201.         155900.         138000.         177000.\n",
            " 214000.         148000.         127000.         142500.\n",
            "  80000.         145000.         171000.         122500.\n",
            " 139000.         189000.         120500.         124000.\n",
            " 160000.         200000.         160000.         313000.\n",
            " 275000.          67000.         159000.         251000.\n",
            "  93200.         109500.         385000.         129000.\n",
            "  82500.         301000.         249700.          81000.\n",
            " 187500.         110000.         117000.         128500.\n",
            " 213490.         284000.         230500.         190000.\n",
            " 135000.         152000.          87500.         155000.\n",
            " 115000.         144000.         248000.         132500.\n",
            " 136000.         117000.          82000.         157500.\n",
            " 110000.         181000.         192500.         223500.\n",
            " 181500.         170000.         187500.         185900.\n",
            " 160000.         192000.         181900.         266000.\n",
            "  99900.         438780.         229456.         216837.\n",
            " 110500.         175900.         538000.         160000.\n",
            " 172500.         108000.         131500.         106250.\n",
            " 385000.         370878.         345000.          68500.\n",
            " 250000.         245350.         125000.         234000.\n",
            " 145000.         181000.         104000.         233000.\n",
            " 164000.         219500.         195000.         108000.\n",
            " 149900.         315000.         177500.         140000.\n",
            " 193879.         137900.         118000.         324000.\n",
            " 555000.         136000.          82500.         101000.\n",
            " 314813.         109500.         163500.         271000.\n",
            " 205000.         185000.         160000.         155000.\n",
            "  91000.         131000.         165400.         194700.\n",
            " 155000.         140000.         147000.         194000.\n",
            " 179540.         173000.         109500.         173733.\n",
            " 129900.         119000.         125500.         144433.33333333\n",
            " 305000.         102000.         178740.         129500.\n",
            "  79900.         278000.         118400.         197000.\n",
            " 140000.         226000.         132500.         315000.\n",
            " 224000.         132500.         119500.         215000.\n",
            " 210000.         200141.         185000.         149900.\n",
            " 129000.         184100.         135000.         128000.\n",
            " 374000.         164000.         157000.         215000.\n",
            " 165000.         144000.         125500.          98300.\n",
            "  91300.         135960.         226700.         333168.\n",
            " 114500.          97000.         181000.         465000.\n",
            " 290000.         175000.         235000.         277000.\n",
            " 325000.         178000.         235000.         239000.\n",
            "  85000.        ]\n",
            "529     200624\n",
            "491     133000\n",
            "459     110000\n",
            "279     192000\n",
            "655      88000\n",
            "         ...  \n",
            "583     325000\n",
            "1245    178000\n",
            "1390    235000\n",
            "1375    239000\n",
            "638      85000\n",
            "Name: SalePrice, Length: 365, dtype: int64\n"
          ]
        }
      ]
    },
    {
      "cell_type": "markdown",
      "source": [
        "What do you notice that is different from what you saw with in-sample predictions (which are printed after the top code cell in this page).\n",
        "\n",
        "Do you remember why validation predictions differ from in-sample (or training) predictions? This is an important idea from the last lesson.\n",
        "\n",
        "## Step 4: Calculate the Mean Absolute Error in Validation Data\n"
      ],
      "metadata": {
        "id": "vQ9tOMV09e9Z"
      }
    },
    {
      "cell_type": "code",
      "source": [
        "from sklearn.metrics import mean_absolute_error\n",
        "val_mae = mean_absolute_error(val_y, val_predictions)\n",
        "predicted_sale_prices = iowa_model.predict(val_x)\n",
        "# uncomment following line to see the validation_mae\n",
        "print(val_mae)\n",
        "\n",
        "# Check your answer"
      ],
      "metadata": {
        "id": "qpJVSeeo9e9Z",
        "colab": {
          "base_uri": "https://localhost:8080/"
        },
        "outputId": "81635aab-ffed-4984-9482-a34a971f673d"
      },
      "execution_count": 39,
      "outputs": [
        {
          "output_type": "stream",
          "name": "stdout",
          "text": [
            "18.264840182648374\n"
          ]
        }
      ]
    }
  ]
}