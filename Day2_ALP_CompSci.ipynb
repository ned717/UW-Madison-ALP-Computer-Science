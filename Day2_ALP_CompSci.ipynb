{
  "nbformat": 4,
  "nbformat_minor": 0,
  "metadata": {
    "colab": {
      "provenance": [],
      "authorship_tag": "ABX9TyNPs4iejx1C0bX/uLKZbuT1",
      "include_colab_link": true
    },
    "kernelspec": {
      "name": "python3",
      "display_name": "Python 3"
    },
    "language_info": {
      "name": "python"
    }
  },
  "cells": [
    {
      "cell_type": "markdown",
      "metadata": {
        "id": "view-in-github",
        "colab_type": "text"
      },
      "source": [
        "<a href=\"https://colab.research.google.com/github/ned717/UW-Madison-ALP-Computer-Science/blob/main/Day2_ALP_CompSci.ipynb\" target=\"_parent\"><img src=\"https://colab.research.google.com/assets/colab-badge.svg\" alt=\"Open In Colab\"/></a>"
      ]
    },
    {
      "cell_type": "code",
      "source": [
        "counter = 1\n",
        "while counter <= 5:\n",
        "  print(\"this code is inside the loop\", counter )\n",
        "  counter +=1\n",
        "\n",
        "print(\"the loop has ended\")"
      ],
      "metadata": {
        "colab": {
          "base_uri": "https://localhost:8080/"
        },
        "id": "zj6NOv0WxqRX",
        "outputId": "b069a0e4-a26f-45ea-e334-0fbc23989edc"
      },
      "execution_count": null,
      "outputs": [
        {
          "output_type": "stream",
          "name": "stdout",
          "text": [
            "this code is inside the loop 1\n",
            "this code is inside the loop 2\n",
            "this code is inside the loop 3\n",
            "this code is inside the loop 4\n",
            "this code is inside the loop 5\n",
            "the loop has ended\n"
          ]
        }
      ]
    },
    {
      "cell_type": "code",
      "source": [
        "num = int(input('What number would you like the countdown to start at? '))\n",
        "while num > 0:\n",
        "  print(\"Blast off in \", num )\n",
        "  num -=1\n",
        "print(\"BLAST OFF\")"
      ],
      "metadata": {
        "colab": {
          "base_uri": "https://localhost:8080/"
        },
        "id": "_PGkAGETzjiN",
        "outputId": "970100a1-d8f3-4a74-97fa-f1f7295ee657"
      },
      "execution_count": null,
      "outputs": [
        {
          "output_type": "stream",
          "name": "stdout",
          "text": [
            "What number would you like the countdown to start at? 8\n",
            "Blast off in  8\n",
            "Blast off in  7\n",
            "Blast off in  6\n",
            "Blast off in  5\n",
            "Blast off in  4\n",
            "Blast off in  3\n",
            "Blast off in  2\n",
            "Blast off in  1\n",
            "BLAST OFF\n"
          ]
        }
      ]
    },
    {
      "cell_type": "markdown",
      "source": [
        "#Try Again Password"
      ],
      "metadata": {
        "id": "9zH_Z_W92Z-2"
      }
    },
    {
      "cell_type": "code",
      "source": [
        "correctusername = \"dave\"\n",
        "\n",
        "username = input((\"Please enter your username \")).lower()\n",
        "\n",
        "while username != correctusername:\n",
        "  username = input('Incorrect Username ')\n",
        "print(\"Correct\")"
      ],
      "metadata": {
        "colab": {
          "base_uri": "https://localhost:8080/"
        },
        "id": "0PSlICUB2de8",
        "outputId": "0991e8d5-e28f-49ac-e337-078e8668a1ff"
      },
      "execution_count": null,
      "outputs": [
        {
          "output_type": "stream",
          "name": "stdout",
          "text": [
            "Please enter your username nate\n",
            "Incorrect Username dave\n",
            "Correct\n"
          ]
        }
      ]
    },
    {
      "cell_type": "code",
      "source": [
        "pw = input(\"Please Pick a password. \")\n",
        "\n",
        "pw2 = input(\"Please rewrite your password. \" )\n",
        "\n",
        "while pw != pw2:\n",
        "  print(\"Incorrect\")\n",
        "  pw2 = input(\"Try again. \")\n",
        "print(\"Correct\")"
      ],
      "metadata": {
        "colab": {
          "base_uri": "https://localhost:8080/"
        },
        "id": "u9CeSEez3UHF",
        "outputId": "baeca2bb-0c4c-4ea7-9f4c-960b653f5de0"
      },
      "execution_count": null,
      "outputs": [
        {
          "output_type": "stream",
          "name": "stdout",
          "text": [
            "Please Pick a password. nate\n",
            "Please rewrite your password. bob\n",
            "Incorrect\n",
            "Try again. nate\n",
            "Correct\n"
          ]
        }
      ]
    },
    {
      "cell_type": "markdown",
      "source": [
        "#Lists"
      ],
      "metadata": {
        "id": "EyUHhJlI8dTT"
      }
    },
    {
      "cell_type": "code",
      "source": [
        "fruit = [\"Apple\", \"Banana\", \"Grape\", \"Strawberry\", \"Melon\", \"Orange\"]\n",
        "\n",
        "print(fruit)"
      ],
      "metadata": {
        "colab": {
          "base_uri": "https://localhost:8080/"
        },
        "id": "rQg6U1Z88fcD",
        "outputId": "e7ceffea-9ef9-4970-ad85-b03294fdfe6e"
      },
      "execution_count": null,
      "outputs": [
        {
          "output_type": "stream",
          "name": "stdout",
          "text": [
            "['Apple', 'Banana', 'Grape', 'Strawberry', 'Melon', 'Orange']\n"
          ]
        }
      ]
    },
    {
      "cell_type": "code",
      "source": [
        "fruit = [\"Apple\", \"Banana\", \"Grape\", \"Strawberry\", \"Melon\", \"Orange\"]\n",
        "num = int(input(\"Pick a number for fruit \"))\n",
        "print(fruit[num])"
      ],
      "metadata": {
        "colab": {
          "base_uri": "https://localhost:8080/"
        },
        "id": "81U_xxQU-xKL",
        "outputId": "0f38e06b-f0fc-4767-ad0a-a7e3c98d857d"
      },
      "execution_count": null,
      "outputs": [
        {
          "output_type": "stream",
          "name": "stdout",
          "text": [
            "Pick a number for fruit 5\n",
            "Orange\n"
          ]
        }
      ]
    },
    {
      "cell_type": "code",
      "source": [
        "food = [\"Bacon\", \"Cheese\", \"Pasta\", \"Beans\"]\n",
        "food.append(\"tomatoes\")\n",
        "food.insert(1, \"ice cream\")\n",
        "food.remove(\"Cheese\")\n",
        "food.pop()\n",
        "print(food)"
      ],
      "metadata": {
        "colab": {
          "base_uri": "https://localhost:8080/"
        },
        "id": "S8XBquRR_q2C",
        "outputId": "3a841af5-203f-4436-a5f4-2c23e957f912"
      },
      "execution_count": null,
      "outputs": [
        {
          "output_type": "stream",
          "name": "stdout",
          "text": [
            "['Bacon', 'ice cream', 'Pasta', 'Beans']\n"
          ]
        }
      ]
    },
    {
      "cell_type": "markdown",
      "source": [
        "#Finding an Item in a List"
      ],
      "metadata": {
        "id": "kinJrueIBoGK"
      }
    },
    {
      "cell_type": "code",
      "source": [
        "weapons = [\"Sword\", \"Bat\", \"Gun\", \"Hammer\"]\n",
        "zombiew = \"gun\"\n",
        "print(\"You have encountered a zombie prepare to Fight! \" )\n",
        "print(weapons)\n",
        "user = int(input(\"If you wish to use an item listed above type 1, if you wish to use another item type 2. \"))\n",
        "if user == 2:\n",
        "  oweapon = (input(\"What other weapon would you like to use?  \" ))\n",
        "  weapons.append(oweapon)\n",
        "else:\n",
        "  print(weapons)\n",
        "  choice = input(\"What weapon would you like? \")\n",
        "if choice == zombiew.lower():\n",
        "  print(\"You have killed him!\")\n",
        "else:\n",
        "  print(\"The weapon you picked was not strong enough and you failed, try again.\")"
      ],
      "metadata": {
        "colab": {
          "base_uri": "https://localhost:8080/"
        },
        "id": "4vHEOmxpBq00",
        "outputId": "7491096c-4a82-42de-e0ad-558720b21730"
      },
      "execution_count": null,
      "outputs": [
        {
          "output_type": "stream",
          "name": "stdout",
          "text": [
            "You have encountered a zombie prepare to Fight! \n",
            "['Sword', 'Bat', 'Gun', 'Hammer']\n",
            "If you wish to use an item listed above type 1, if you wish to use another item type 2. 1\n",
            "['Sword', 'Bat', 'Gun', 'Hammer']\n",
            "What weapon would you like? gun\n",
            "You have killed him!\n"
          ]
        }
      ]
    },
    {
      "cell_type": "markdown",
      "source": [
        "#Subroutines"
      ],
      "metadata": {
        "id": "Z2lSasXOKc2p"
      }
    },
    {
      "cell_type": "code",
      "source": [
        "def add(num1,num2):\n",
        "  sum1 = num1 + num2\n",
        "  print('This is your answer ', sum1)\n",
        "def sub(num1,num2):\n",
        "  sum2 = num1 - num2\n",
        "  print(sum2)\n",
        "def mut(num1,num2):\n",
        "   sum3 = num1*num2\n",
        "   print(sum3)\n",
        "def div(num1,num2):\n",
        "  if num1 or num2 == 0:\n",
        "    print(\"Invalid\")\n",
        "  else:\n",
        "    sum4 = num1/num2\n",
        "    print(sum4)\n",
        "\n",
        "num1 = int(input(\"Hello, what is the first number of your calculation? \"))\n",
        "opper = int(input(\"If you wish to add type 1, subtract type 2, multiple type 3, divide type 4. \"))\n",
        "num2 = int(input(\"Hello, what is the second number of your calculation? \"))\n",
        "if opper == 1:\n",
        "  add(num1,num2)\n",
        "if opper == 2:\n",
        "  sub(num1,num2)\n",
        "if opper == 3:\n",
        "  mut(num1,num2)\n",
        "if opper == 4:\n",
        "  div(num1,num2)"
      ],
      "metadata": {
        "colab": {
          "base_uri": "https://localhost:8080/"
        },
        "id": "ILJ3uWMCKhJ5",
        "outputId": "19199188-ea9b-49af-caaf-19b2e0731574"
      },
      "execution_count": null,
      "outputs": [
        {
          "output_type": "stream",
          "name": "stdout",
          "text": [
            "Hello, what is the first number of your calculation? 16\n",
            "If you wish to add type 1, subtract type 2, multiple type 3, divide type 4. 4\n",
            "Hello, what is the second number of your calculation? 0\n",
            "Invalid\n"
          ]
        }
      ]
    },
    {
      "cell_type": "markdown",
      "source": [
        "#Files"
      ],
      "metadata": {
        "id": "hf6qty4Rsbkl"
      }
    },
    {
      "cell_type": "code",
      "source": [
        "myfile = open(\"test.txt\", \"r\")\n",
        "\n",
        "for line in myfile:\n",
        "  print(print)\n",
        "myfile.close()"
      ],
      "metadata": {
        "id": "YO5e86vKQ2gj"
      },
      "execution_count": null,
      "outputs": []
    },
    {
      "cell_type": "code",
      "source": [
        "myfile = open(\"test.txt\", 'w')\n",
        "myfile.write(\"Hello World\")\n",
        "\n",
        "myfile.close()"
      ],
      "metadata": {
        "id": "tpDGzjRar4nG"
      },
      "execution_count": null,
      "outputs": []
    },
    {
      "cell_type": "code",
      "source": [
        "myfile = open(\"test.txt\", 'a')\n",
        "myfile.write(\"Hello World\")\n",
        "\n",
        "myfile.close()"
      ],
      "metadata": {
        "id": "yrkYwsWerA78"
      },
      "execution_count": null,
      "outputs": []
    },
    {
      "cell_type": "markdown",
      "source": [],
      "metadata": {
        "id": "0yuoULMKwbRH"
      }
    },
    {
      "cell_type": "code",
      "source": [
        "def paragraph(text):\n",
        "  myfile = open(\"test.txt\", 'w')\n",
        "  myfile.write(text)\n",
        "text = \"ghghigqhi\"\n",
        "paragraph(text)"
      ],
      "metadata": {
        "id": "Z6psxwhzsa8t"
      },
      "execution_count": null,
      "outputs": []
    },
    {
      "cell_type": "markdown",
      "source": [
        "#For Loops"
      ],
      "metadata": {
        "id": "Ci09z6c8w1OW"
      }
    },
    {
      "cell_type": "code",
      "source": [
        "for i in range(5):\n",
        "  print(\"Hey\")"
      ],
      "metadata": {
        "colab": {
          "base_uri": "https://localhost:8080/"
        },
        "id": "BnZi5Vj0w2vP",
        "outputId": "6f901248-a7a8-4da4-a368-fdfedc86d891"
      },
      "execution_count": null,
      "outputs": [
        {
          "output_type": "stream",
          "name": "stdout",
          "text": [
            "Hey\n",
            "Hey\n",
            "Hey\n",
            "Hey\n",
            "Hey\n"
          ]
        }
      ]
    },
    {
      "cell_type": "markdown",
      "source": [
        "#Independent Challenge"
      ],
      "metadata": {
        "id": "86cruWnYCKXe"
      }
    },
    {
      "cell_type": "code",
      "source": [
        "countries = [\"UK\", \"USA\", \"Chad\", \"Australia\", \"Thailand\"]\n",
        "\n",
        "countries[3] = \"Mexico\"\n",
        "\n",
        "countries[0] = \"Iceland\"\n",
        "\n",
        "countries[1] = countries[4]\n",
        "\n",
        "#I believe the list will replace mexico into index 3, replace iceland into index 0, and lastly replace index 0 with index 4, so there will now be the same country twice\n",
        "\n",
        "print(countries)"
      ],
      "metadata": {
        "colab": {
          "base_uri": "https://localhost:8080/"
        },
        "id": "iZDQrX2LCXbN",
        "outputId": "6ee10599-4134-4b98-a9c4-cd9935decb39"
      },
      "execution_count": 183,
      "outputs": [
        {
          "output_type": "stream",
          "name": "stdout",
          "text": [
            "['Iceland', 'Thailand', 'Chad', 'Mexico', 'Thailand']\n"
          ]
        }
      ]
    },
    {
      "cell_type": "markdown",
      "source": [
        "#Independent Challenge Num2"
      ],
      "metadata": {
        "id": "w0V2Y4XODhZU"
      }
    },
    {
      "cell_type": "code",
      "source": [
        "sqnum = [1, 4, 9, 16, 25, 36]\n",
        "\n",
        "sqnum[5] = 49\n",
        "\n",
        "sqnum[0] +=1\n",
        "\n",
        "total = sqnum[3] - sqnum[1]\n",
        "\n",
        "#First 49 will be inserted into the 5th index then next, 1 will be added to the current value of the 0 index\n",
        "\n",
        "print(sqnum)"
      ],
      "metadata": {
        "colab": {
          "base_uri": "https://localhost:8080/"
        },
        "id": "Oc2sYNs0DtBL",
        "outputId": "df940acc-4bdc-452d-c692-0ac98c39bf53"
      },
      "execution_count": 188,
      "outputs": [
        {
          "output_type": "stream",
          "name": "stdout",
          "text": [
            "[2, 4, 9, 16, 25, 49]\n"
          ]
        }
      ]
    }
  ]
}