{
  "cells": [
    {
      "cell_type": "markdown",
      "metadata": {
        "id": "view-in-github",
        "colab_type": "text"
      },
      "source": [
        "<a href=\"https://colab.research.google.com/github/ned717/UW-Madison-ALP-Computer-Science/blob/main/Day1_ALP_CompSci.ipynb\" target=\"_parent\"><img src=\"https://colab.research.google.com/assets/colab-badge.svg\" alt=\"Open In Colab\"/></a>"
      ]
    },
    {
      "cell_type": "markdown",
      "metadata": {
        "id": "vn26c5pnCuJZ"
      },
      "source": [
        "#Task 1"
      ]
    },
    {
      "cell_type": "code",
      "execution_count": null,
      "metadata": {
        "colab": {
          "base_uri": "https://localhost:8080/"
        },
        "collapsed": true,
        "id": "nE3u1V6-y9Ov",
        "outputId": "ceaa9095-0b55-434e-86a5-e6c6e6c42a72"
      },
      "outputs": [
        {
          "name": "stdout",
          "output_type": "stream",
          "text": [
            "Forest Green\n"
          ]
        }
      ],
      "source": [
        "favColor = \"Forest Green\"\n",
        "# favColor is a place holder for the information forest green. The computer plugs whatever it is set equal to into the blank\n",
        "print(favColor)"
      ]
    },
    {
      "cell_type": "markdown",
      "metadata": {
        "id": "XcJLt-X6CTPN"
      },
      "source": [
        "#Task 2"
      ]
    },
    {
      "cell_type": "code",
      "execution_count": null,
      "metadata": {
        "colab": {
          "base_uri": "https://localhost:8080/"
        },
        "id": "dswDdqBhAncK",
        "outputId": "c5b47936-2566-43dc-cccb-c227774affb9"
      },
      "outputs": [
        {
          "name": "stdout",
          "output_type": "stream",
          "text": [
            "Duff and Izzy went to the store and met Steve\n"
          ]
        }
      ],
      "source": [
        "name1 = \"Duff\"\n",
        "name2 = \"Izzy\"\n",
        "name3 = \"Steve\"\n",
        "print(name1 + ' and ' + name2 + ' went to the store and met ' + name3)"
      ]
    },
    {
      "cell_type": "markdown",
      "metadata": {
        "id": "RElopu8CCEMB"
      },
      "source": [
        "#Task 3"
      ]
    },
    {
      "cell_type": "code",
      "execution_count": null,
      "metadata": {
        "colab": {
          "base_uri": "https://localhost:8080/"
        },
        "id": "xUMRV2S3B8YG",
        "outputId": "bed60432-6fcc-4f92-a8d0-219ac8d0b2ab"
      },
      "outputs": [
        {
          "name": "stdout",
          "output_type": "stream",
          "text": [
            "My name is Nate and my favorite food is Ribeye\n"
          ]
        }
      ],
      "source": [
        "favfood = \"Ribeye\"\n",
        "name1 = \"Nate\"\n",
        "print('My name is ' + name1 + ' and my favorite food is ' + favfood)"
      ]
    },
    {
      "cell_type": "markdown",
      "metadata": {
        "id": "RaAncKd-D3K2"
      },
      "source": [
        "#Programming - Input - Predict and Run\n",
        "##Task 1"
      ]
    },
    {
      "cell_type": "code",
      "execution_count": null,
      "metadata": {
        "colab": {
          "base_uri": "https://localhost:8080/"
        },
        "id": "bbUZqKEsD_Rz",
        "outputId": "fa05a95a-df59-41f1-ab5c-737a9f09785a"
      },
      "outputs": [
        {
          "name": "stdout",
          "output_type": "stream",
          "text": [
            "What is your name?\n",
            "nate\n",
            "Your name is nate\n"
          ]
        }
      ],
      "source": [
        "print (\"What is your name?\")\n",
        "name = input()\n",
        "print(\"Your name is\",name)"
      ]
    },
    {
      "cell_type": "code",
      "execution_count": null,
      "metadata": {
        "colab": {
          "base_uri": "https://localhost:8080/"
        },
        "id": "frRkMzk3FIFH",
        "outputId": "eedf0248-d361-4822-9bcc-a2277251850c"
      },
      "outputs": [
        {
          "name": "stdout",
          "output_type": "stream",
          "text": [
            "What is your name? nate\n",
            "Nice to meet you nate!\n",
            "Whats your favorite food nate? steak\n",
            "steak is my favorite food too!\n"
          ]
        }
      ],
      "source": [
        "name1 = input(\"What is your name? \")\n",
        "print('Nice to meet you ' +  name1 + '!')\n",
        "anw = input('Whats your favorite food ' + name1 + '? ' )\n",
        "print(anw + ' is my favorite food too!')"
      ]
    },
    {
      "cell_type": "markdown",
      "metadata": {
        "id": "6YLemHEkZBiQ"
      },
      "source": [
        "#Program and Chat Bot"
      ]
    },
    {
      "cell_type": "code",
      "execution_count": null,
      "metadata": {
        "id": "zSzVF6TrZFNo"
      },
      "outputs": [],
      "source": [
        "name = input (\"Welcome, this is a chat bot! What is your name? \")\n",
        "print (\"\")\n",
        "location = input('Nice to meet you ' + name + ', where do you live ' + name + '? ')\n",
        "print (\"\")\n",
        "print(\"I have heard the weathers nice there, I want to visit \" + location + \"!\")\n",
        "print (\"\")\n",
        "sportsteam = input(\"I like watching sports, whats your favorite team? \")\n",
        "print (\"\")\n",
        "food = input(sportsteam + ' are really good! Lastly, I love to eat food, what is your favorite food to eat! ')\n",
        "print(\"\")\n",
        "print(\"Wow \" + name + \" I think we would be really food friends! I really like \" + location + \" \" + sportsteam + \" and \" + food + \" as well! \")"
      ]
    },
    {
      "cell_type": "markdown",
      "metadata": {
        "id": "S3SqqRt7fac6"
      },
      "source": [
        "#Operators\n",
        "\n",
        "##Task 1"
      ]
    },
    {
      "cell_type": "code",
      "execution_count": null,
      "metadata": {
        "colab": {
          "base_uri": "https://localhost:8080/"
        },
        "id": "n7WlmChle5jz",
        "outputId": "8352963f-fa3c-47c8-f777-1c99acce4a8b"
      },
      "outputs": [
        {
          "name": "stdout",
          "output_type": "stream",
          "text": [
            "16\n",
            "-2\n",
            "63\n",
            "0.7777777777777778\n",
            "0\n"
          ]
        }
      ],
      "source": [
        "print( 7 + 9)\n",
        "print ( 7 - 9)\n",
        "print ( 7 * 9)\n",
        "print ( 7 / 9)\n",
        "print ( 7 // 9)"
      ]
    },
    {
      "cell_type": "code",
      "execution_count": null,
      "metadata": {
        "colab": {
          "base_uri": "https://localhost:8080/"
        },
        "id": "Y2cpjQ0VgNut",
        "outputId": "fb12957e-e572-473f-e539-75f3e9caea21"
      },
      "outputs": [
        {
          "name": "stdout",
          "output_type": "stream",
          "text": [
            "0\n",
            "1\n"
          ]
        }
      ],
      "source": [
        "score = 0\n",
        "print(score)\n",
        "score = score + 1\n",
        "print(score)"
      ]
    },
    {
      "cell_type": "code",
      "execution_count": null,
      "metadata": {
        "id": "FSItxZ96hF3T"
      },
      "outputs": [],
      "source": [
        "number1 = int(input(\"Enter a number \"))"
      ]
    },
    {
      "cell_type": "code",
      "execution_count": null,
      "metadata": {
        "id": "bz7_UZUYilVk"
      },
      "outputs": [],
      "source": [
        "print(string(num))"
      ]
    },
    {
      "cell_type": "markdown",
      "metadata": {
        "id": "s-C7RAX_itYa"
      },
      "source": [
        "#Task 5 - Homework Challenge - Area Calculations"
      ]
    },
    {
      "cell_type": "code",
      "execution_count": null,
      "metadata": {
        "id": "LXvKl5EvmeHE"
      },
      "outputs": [],
      "source": []
    },
    {
      "cell_type": "code",
      "execution_count": null,
      "metadata": {
        "colab": {
          "base_uri": "https://localhost:8080/"
        },
        "id": "Vzfgdhvoi275",
        "outputId": "a066dd7a-663d-4edb-8e61-e0ce129a2862"
      },
      "outputs": [
        {
          "name": "stdout",
          "output_type": "stream",
          "text": [
            "Welcome, this is Area Bot, I calculate the area of Rectangles! What is your name? nate\n",
            " \n",
            "Nice to meet you nate, what is the width of the Rectangle you want to solve? 5\n",
            " \n",
            "Now that I know the Width, what is the Length? 6\n",
            " \n",
            "30 is your area!\n"
          ]
        }
      ],
      "source": [
        "name = input(\"Welcome, this is Area Bot, I calculate the area of Rectangles! What is your name? \")\n",
        "print(\" \")\n",
        "width = int(input('Nice to meet you ' + name + ', what is the width of the Rectangle you want to solve? '))\n",
        "print(\" \")\n",
        "length = int(input('Now that I know the Width, what is the Length? '))\n",
        "print(\" \")\n",
        "print((width * length),\"is your area!\")"
      ]
    },
    {
      "cell_type": "markdown",
      "metadata": {
        "id": "pEO10v86m2nI"
      },
      "source": [
        "#Perimiter, Tip, and Volume/Surface Are Calculators"
      ]
    },
    {
      "cell_type": "code",
      "execution_count": null,
      "metadata": {
        "colab": {
          "base_uri": "https://localhost:8080/"
        },
        "id": "Pu6x2tERm-yd",
        "outputId": "d4c87bd1-1a99-47ac-900b-973fc959c432"
      },
      "outputs": [
        {
          "name": "stdout",
          "output_type": "stream",
          "text": [
            "Welcome, this is Perimiter Bot, I calculate the Perimiter of Rectangles! What is your name? nate\n",
            " \n",
            "Nice to meet you nate, what is the width of the Rectangle you want to solve? 7\n",
            " \n",
            "Now that I know the Width, what is the Length? 89\n",
            " \n",
            "192 is your area!\n"
          ]
        }
      ],
      "source": [
        "name = input(\"Welcome, this is Perimiter Bot, I calculate the Perimiter of Rectangles! What is your name? \")\n",
        "print(\" \")\n",
        "p1 = int(input('Nice to meet you ' + name + ', what is the width of the Rectangle you want to solve? '))\n",
        "print(\" \")\n",
        "p2 = int(input('Now that I know the Width, what is the Length? '))\n",
        "print(\" \")\n",
        "p1anw = (p1*2)\n",
        "p2anw = (p2*2)\n",
        "print((p1anw + p2anw),\"is your area!\")"
      ]
    },
    {
      "cell_type": "code",
      "execution_count": null,
      "metadata": {
        "colab": {
          "base_uri": "https://localhost:8080/"
        },
        "id": "CvDkbQWOolsl",
        "outputId": "35b3b554-1799-4f2b-e1fa-09204b731444"
      },
      "outputs": [
        {
          "name": "stdout",
          "output_type": "stream",
          "text": [
            "Welcome, this is Tip Bot, I calculate the Tip of totals! What is your name? nate\n",
            " \n",
            "Nice to meet you nate, what is the total of the bill you want to tip for? 10\n",
            " \n",
            "Now that I know the total, what is the percentage you want to tip? Please answer without the percentage symbol.20\n",
            " \n",
            " \n",
            "Your tip is going to be  2.0  and your total bill is going to be 12.0 .\n"
          ]
        }
      ],
      "source": [
        "name = input(\"Welcome, this is Tip Bot, I calculate the Tip of totals! What is your name? \")\n",
        "print(\" \")\n",
        "total = int(input('Nice to meet you ' + name + ', what is the total of the bill you want to tip for? '))\n",
        "print(\" \")\n",
        "p = int(input('Now that I know the total, what is the percentage you want to tip? Please answer without the percentage symbol.'))\n",
        "print(\" \")\n",
        "tip = (total*p/100)\n",
        "bill = (tip + total)\n",
        "print(\"Your tip is going to be \", tip, \" and your total bill is going to be\", bill, \".\")"
      ]
    },
    {
      "cell_type": "markdown",
      "metadata": {
        "id": "8Hi2wWQpr1O2"
      },
      "source": [
        "#Boolen"
      ]
    },
    {
      "cell_type": "code",
      "execution_count": null,
      "metadata": {
        "colab": {
          "base_uri": "https://localhost:8080/"
        },
        "id": "6xBWUdR0r4Y-",
        "outputId": "da61b8f5-337a-4067-867b-9feb77819304"
      },
      "outputs": [
        {
          "name": "stdout",
          "output_type": "stream",
          "text": [
            "num1 os bigger\n",
            "end program\n"
          ]
        }
      ],
      "source": [
        "num1 = 100\n",
        "num2 = 50\n",
        "if num1>num2:\n",
        "  print(\"num1 is bigger\")\n",
        "print(\"end program\")"
      ]
    },
    {
      "cell_type": "markdown",
      "metadata": {
        "id": "E21-Y4mRuO6G"
      },
      "source": [
        "#Selection with Two Outcomes"
      ]
    },
    {
      "cell_type": "code",
      "execution_count": null,
      "metadata": {
        "colab": {
          "base_uri": "https://localhost:8080/"
        },
        "id": "ydcImWXFuSQT",
        "outputId": "ab069773-9a35-475d-8264-dc6b0b5d5e74"
      },
      "outputs": [
        {
          "name": "stdout",
          "output_type": "stream",
          "text": [
            "What is the password 1738\n",
            "Correct Password\n"
          ]
        }
      ],
      "source": [
        "password = 1738\n",
        "Guess = int(input(\"What is the password \"))\n",
        "\n",
        "if Guess == password:\n",
        "  print(\"Correct Password\")\n",
        "else:\n",
        "  print(\"Password Incorrect\")"
      ]
    },
    {
      "cell_type": "code",
      "execution_count": null,
      "metadata": {
        "colab": {
          "base_uri": "https://localhost:8080/"
        },
        "id": "4JPUa1WxwJdC",
        "outputId": "fca680c4-b1b1-483e-ce73-30fcf376c30c"
      },
      "outputs": [
        {
          "output_type": "stream",
          "name": "stdout",
          "text": [
            "Pick a number 55\n",
            "Pick another number 44\n",
            "55  is the greater number.\n"
          ]
        }
      ],
      "source": [
        "num1 = int(input(\"Pick a number \"))\n",
        "num2 = int(input(\"Pick another number \"))\n",
        "if num1>num2:\n",
        "  print(num1, \" is the greater number.\")\n",
        "else: print(num2, \" is the greater number.\")"
      ]
    },
    {
      "cell_type": "code",
      "source": [
        "name = input(\"Welcome, I can help you find your class, what is your name?. \")\n",
        "print(\" \")\n",
        "subject = input('Hi ' + name + ' What is the subject you are studying? ')\n",
        "if subject == \"Math\":\n",
        "  print()\n",
        "  print(\"Head to room 102\")\n",
        "elif subject == \"Science\":\n",
        "  print(\"Head to room 110\")\n",
        "elif subject == \"History\":\n",
        "  print(\"Head to room 124\")\n",
        "  print(\"I do not know where that room is\")\n"
      ],
      "metadata": {
        "colab": {
          "base_uri": "https://localhost:8080/",
          "height": 391
        },
        "id": "5kxWAui65C2k",
        "outputId": "07e19008-5569-419e-deb8-94456ab988f2"
      },
      "execution_count": null,
      "outputs": [
        {
          "output_type": "stream",
          "name": "stdout",
          "text": [
            "Welcome, I can help you find your class, what is your name?. nate\n",
            " \n"
          ]
        },
        {
          "output_type": "error",
          "ename": "KeyboardInterrupt",
          "evalue": "Interrupted by user",
          "traceback": [
            "\u001b[0;31m---------------------------------------------------------------------------\u001b[0m",
            "\u001b[0;31mKeyboardInterrupt\u001b[0m                         Traceback (most recent call last)",
            "\u001b[0;32m<ipython-input-20-b8a9e9a627e9>\u001b[0m in \u001b[0;36m<cell line: 3>\u001b[0;34m()\u001b[0m\n\u001b[1;32m      1\u001b[0m \u001b[0mname\u001b[0m \u001b[0;34m=\u001b[0m \u001b[0minput\u001b[0m\u001b[0;34m(\u001b[0m\u001b[0;34m\"Welcome, I can help you find your class, what is your name?. \"\u001b[0m\u001b[0;34m)\u001b[0m\u001b[0;34m\u001b[0m\u001b[0;34m\u001b[0m\u001b[0m\n\u001b[1;32m      2\u001b[0m \u001b[0mprint\u001b[0m\u001b[0;34m(\u001b[0m\u001b[0;34m\" \"\u001b[0m\u001b[0;34m)\u001b[0m\u001b[0;34m\u001b[0m\u001b[0;34m\u001b[0m\u001b[0m\n\u001b[0;32m----> 3\u001b[0;31m \u001b[0msubject\u001b[0m \u001b[0;34m=\u001b[0m \u001b[0minput\u001b[0m\u001b[0;34m(\u001b[0m\u001b[0;34m'Hi '\u001b[0m \u001b[0;34m+\u001b[0m \u001b[0mname\u001b[0m \u001b[0;34m+\u001b[0m \u001b[0;34m' What is the subject you are studying?'\u001b[0m\u001b[0;34m)\u001b[0m\u001b[0;34m\u001b[0m\u001b[0;34m\u001b[0m\u001b[0m\n\u001b[0m\u001b[1;32m      4\u001b[0m \u001b[0;32mif\u001b[0m \u001b[0msubject\u001b[0m \u001b[0;34m==\u001b[0m \u001b[0;34m\"Math\"\u001b[0m\u001b[0;34m:\u001b[0m\u001b[0;34m\u001b[0m\u001b[0;34m\u001b[0m\u001b[0m\n\u001b[1;32m      5\u001b[0m   \u001b[0mprint\u001b[0m\u001b[0;34m(\u001b[0m\u001b[0;34m)\u001b[0m\u001b[0;34m\u001b[0m\u001b[0;34m\u001b[0m\u001b[0m\n",
            "\u001b[0;32m/usr/local/lib/python3.10/dist-packages/ipykernel/kernelbase.py\u001b[0m in \u001b[0;36mraw_input\u001b[0;34m(self, prompt)\u001b[0m\n\u001b[1;32m    849\u001b[0m                 \u001b[0;34m\"raw_input was called, but this frontend does not support input requests.\"\u001b[0m\u001b[0;34m\u001b[0m\u001b[0;34m\u001b[0m\u001b[0m\n\u001b[1;32m    850\u001b[0m             )\n\u001b[0;32m--> 851\u001b[0;31m         return self._input_request(str(prompt),\n\u001b[0m\u001b[1;32m    852\u001b[0m             \u001b[0mself\u001b[0m\u001b[0;34m.\u001b[0m\u001b[0m_parent_ident\u001b[0m\u001b[0;34m,\u001b[0m\u001b[0;34m\u001b[0m\u001b[0;34m\u001b[0m\u001b[0m\n\u001b[1;32m    853\u001b[0m             \u001b[0mself\u001b[0m\u001b[0;34m.\u001b[0m\u001b[0m_parent_header\u001b[0m\u001b[0;34m,\u001b[0m\u001b[0;34m\u001b[0m\u001b[0;34m\u001b[0m\u001b[0m\n",
            "\u001b[0;32m/usr/local/lib/python3.10/dist-packages/ipykernel/kernelbase.py\u001b[0m in \u001b[0;36m_input_request\u001b[0;34m(self, prompt, ident, parent, password)\u001b[0m\n\u001b[1;32m    893\u001b[0m             \u001b[0;32mexcept\u001b[0m \u001b[0mKeyboardInterrupt\u001b[0m\u001b[0;34m:\u001b[0m\u001b[0;34m\u001b[0m\u001b[0;34m\u001b[0m\u001b[0m\n\u001b[1;32m    894\u001b[0m                 \u001b[0;31m# re-raise KeyboardInterrupt, to truncate traceback\u001b[0m\u001b[0;34m\u001b[0m\u001b[0;34m\u001b[0m\u001b[0m\n\u001b[0;32m--> 895\u001b[0;31m                 \u001b[0;32mraise\u001b[0m \u001b[0mKeyboardInterrupt\u001b[0m\u001b[0;34m(\u001b[0m\u001b[0;34m\"Interrupted by user\"\u001b[0m\u001b[0;34m)\u001b[0m \u001b[0;32mfrom\u001b[0m \u001b[0;32mNone\u001b[0m\u001b[0;34m\u001b[0m\u001b[0;34m\u001b[0m\u001b[0m\n\u001b[0m\u001b[1;32m    896\u001b[0m             \u001b[0;32mexcept\u001b[0m \u001b[0mException\u001b[0m \u001b[0;32mas\u001b[0m \u001b[0me\u001b[0m\u001b[0;34m:\u001b[0m\u001b[0;34m\u001b[0m\u001b[0;34m\u001b[0m\u001b[0m\n\u001b[1;32m    897\u001b[0m                 \u001b[0mself\u001b[0m\u001b[0;34m.\u001b[0m\u001b[0mlog\u001b[0m\u001b[0;34m.\u001b[0m\u001b[0mwarning\u001b[0m\u001b[0;34m(\u001b[0m\u001b[0;34m\"Invalid Message:\"\u001b[0m\u001b[0;34m,\u001b[0m \u001b[0mexc_info\u001b[0m\u001b[0;34m=\u001b[0m\u001b[0;32mTrue\u001b[0m\u001b[0;34m)\u001b[0m\u001b[0;34m\u001b[0m\u001b[0;34m\u001b[0m\u001b[0m\n",
            "\u001b[0;31mKeyboardInterrupt\u001b[0m: Interrupted by user"
          ]
        }
      ]
    },
    {
      "cell_type": "markdown",
      "source": [
        "#Insults"
      ],
      "metadata": {
        "id": "KnixcJWM9SIl"
      }
    },
    {
      "cell_type": "code",
      "source": [
        "name = input(\"Welcome, what is your name? \")\n",
        "print(\" \")\n",
        "num = int(input('Hi ' + name + ' pick a number, 1 through 5. '))\n",
        "if num == 1 or num == 3 or num == 5:\n",
        "  print(\"I HATE ODD NUMBERS!\")\n",
        "elif num == 2 or num == 4:\n",
        "  print(\"I HATE EVEN NUMBERS!\")\n",
        "else:\n",
        "  print(\"You didnt follow the rules!\")"
      ],
      "metadata": {
        "colab": {
          "base_uri": "https://localhost:8080/"
        },
        "id": "BZJGG2XW9UhL",
        "outputId": "53482222-2724-4dc2-ca33-0305ac30944b"
      },
      "execution_count": null,
      "outputs": [
        {
          "output_type": "stream",
          "name": "stdout",
          "text": [
            "Welcome, what is your name? nate\n",
            " \n",
            "Hi nate pick a number, 1 through 5. 7\n",
            "You didnt follow the rules!\n"
          ]
        }
      ]
    },
    {
      "cell_type": "markdown",
      "source": [
        "#Secret Number"
      ],
      "metadata": {
        "id": "C0a3WBysAEKz"
      }
    },
    {
      "cell_type": "code",
      "source": [
        "secretn = 7\n",
        "q = int(input(\"Guess a number: \"))\n",
        "while q != secretn:\n",
        "  q = int(input(\"Guess again \"))\n",
        "print(\"Correct\")"
      ],
      "metadata": {
        "colab": {
          "base_uri": "https://localhost:8080/"
        },
        "id": "sYjraSStAIjj",
        "outputId": "bfd38241-008f-435e-dd60-6bbc769b4c95"
      },
      "execution_count": null,
      "outputs": [
        {
          "output_type": "stream",
          "name": "stdout",
          "text": [
            "Guess a number: 4\n",
            "Guess again 5\n",
            "Guess again 6\n",
            "Guess again 7\n",
            "Correct\n"
          ]
        }
      ]
    },
    {
      "cell_type": "markdown",
      "source": [
        "#7 Times Table"
      ],
      "metadata": {
        "id": "2uFUlvu7BmU6"
      }
    },
    {
      "cell_type": "code",
      "source": [
        "counter = 0\n",
        "while counter <= 12:\n",
        "  print(counter*7)\n",
        "  counter +=1"
      ],
      "metadata": {
        "colab": {
          "base_uri": "https://localhost:8080/"
        },
        "id": "f4sHTkcCBpfa",
        "outputId": "9f8eb5a8-3408-4cad-f341-94a5145fd606"
      },
      "execution_count": null,
      "outputs": [
        {
          "output_type": "stream",
          "name": "stdout",
          "text": [
            "0\n",
            "7\n",
            "14\n",
            "21\n",
            "28\n",
            "35\n",
            "42\n",
            "49\n",
            "56\n",
            "63\n",
            "70\n",
            "77\n",
            "84\n"
          ]
        }
      ]
    },
    {
      "cell_type": "code",
      "source": [
        "num = int(input(\"How many cubic numbers do you want? \"))\n",
        "counter = 0\n",
        "while counter < num:\n",
        "  print(counter*counter*counter)\n",
        "  counter +=1"
      ],
      "metadata": {
        "colab": {
          "base_uri": "https://localhost:8080/"
        },
        "collapsed": true,
        "id": "0CrDAXVREWIq",
        "outputId": "c1fd8d31-7bbe-4833-e36b-b300937c73c0"
      },
      "execution_count": null,
      "outputs": [
        {
          "output_type": "stream",
          "name": "stdout",
          "text": [
            "How many cubic numbers do you want? 7\n",
            "0\n",
            "1\n",
            "8\n",
            "27\n",
            "64\n",
            "125\n",
            "216\n"
          ]
        }
      ]
    }
  ],
  "metadata": {
    "colab": {
      "provenance": [],
      "authorship_tag": "ABX9TyPws4wDVKos1+bcj60LDRJI",
      "include_colab_link": true
    },
    "kernelspec": {
      "display_name": "Python 3",
      "name": "python3"
    },
    "language_info": {
      "name": "python"
    }
  },
  "nbformat": 4,
  "nbformat_minor": 0
}